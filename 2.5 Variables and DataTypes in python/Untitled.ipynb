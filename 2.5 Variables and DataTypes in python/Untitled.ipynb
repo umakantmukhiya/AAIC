{
 "cells": [
  {
   "cell_type": "code",
   "execution_count": 3,
   "id": "de39eb14",
   "metadata": {},
   "outputs": [],
   "source": [
    "# Variables\n",
    "\n",
    "'''A variable is a location in memory used to store some data (value).\n",
    "   They are given unique names to differentiate between different memory locations'''\n",
    "\n",
    "a = 10\n",
    "b = \"Uma\"\n",
    "c = 1.5"
   ]
  },
  {
   "cell_type": "code",
   "execution_count": 5,
   "id": "228389b6",
   "metadata": {},
   "outputs": [
    {
     "name": "stdout",
     "output_type": "stream",
     "text": [
      "10 <class 'int'>\n",
      "Uma <class 'str'>\n",
      "1.5 <class 'float'>\n"
     ]
    }
   ],
   "source": [
    "#Variable assingments  see above\n",
    "\n",
    "''' We don't need to declare a variable before using it.\n",
    "    We don't even have to declare the type of the variable.\n",
    "    This is handled internally according to the type of value we assign to the variable.'''\n",
    "\n",
    "print(a, type(a))\n",
    "print(b,type(b))\n",
    "print(c,type(c))"
   ]
  },
  {
   "cell_type": "code",
   "execution_count": 6,
   "id": "3ec1be51",
   "metadata": {},
   "outputs": [],
   "source": [
    "#Multiple Assingments\n",
    "\n",
    "a, b, c = 10,\"uma\",5.5     # a= 10; b = \"uma\"; c = 5.5"
   ]
  },
  {
   "cell_type": "code",
   "execution_count": 8,
   "id": "0e07981b",
   "metadata": {},
   "outputs": [],
   "source": [
    "a = b = c = \"AI\"   #same value assingment to the a,b,c"
   ]
  },
  {
   "cell_type": "code",
   "execution_count": 11,
   "id": "c9b24510",
   "metadata": {},
   "outputs": [
    {
     "name": "stdout",
     "output_type": "stream",
     "text": [
      "4379968016\n"
     ]
    }
   ],
   "source": [
    "#Storage location\n",
    "\n",
    "a = 10\n",
    "print(id(a))  # prints the memeory loaction or address where a is stored"
   ]
  },
  {
   "cell_type": "code",
   "execution_count": 12,
   "id": "aee2dadf",
   "metadata": {},
   "outputs": [
    {
     "name": "stdout",
     "output_type": "stream",
     "text": [
      "4379968016\n"
     ]
    }
   ],
   "source": [
    "b = 10\n",
    "print(id(b))  #print address of b"
   ]
  },
  {
   "cell_type": "code",
   "execution_count": 13,
   "id": "5ce589a8",
   "metadata": {},
   "outputs": [
    {
     "data": {
      "text/plain": [
       "'observe above   address of a,b  is same'"
      ]
     },
     "execution_count": 13,
     "metadata": {},
     "output_type": "execute_result"
    }
   ],
   "source": [
    "'''observe above   address of a,b  is same'''"
   ]
  },
  {
   "cell_type": "markdown",
   "id": "a2c5fa12",
   "metadata": {},
   "source": [
    "\n",
    "# Data Types\n",
    "\n"
   ]
  },
  {
   "cell_type": "markdown",
   "id": "d62e73eb",
   "metadata": {},
   "source": [
    "Everything in python has a Data Type\n",
    "\n",
    "Everything is an Object in Python -> DataTypes are Objects and Variables are Instances on that object"
   ]
  },
  {
   "cell_type": "code",
   "execution_count": 17,
   "id": "c1ea12df",
   "metadata": {},
   "outputs": [
    {
     "name": "stdout",
     "output_type": "stream",
     "text": [
      "10 is type of <class 'int'>\n",
      "True\n"
     ]
    }
   ],
   "source": [
    "a = 10\n",
    "print(a, \"is type of\", type(a))\n",
    "print(isinstance(a,int))              # check if a is instance of class int or not"
   ]
  },
  {
   "cell_type": "code",
   "execution_count": 19,
   "id": "0471b63e",
   "metadata": {},
   "outputs": [
    {
     "name": "stdout",
     "output_type": "stream",
     "text": [
      "(1+2j) <class 'complex'>\n",
      "True\n"
     ]
    }
   ],
   "source": [
    "b = 1 + 2j             # b belongs to complex class here\n",
    "print(b, type(b))\n",
    "print(isinstance(b,complex))"
   ]
  },
  {
   "cell_type": "markdown",
   "id": "14a6ac52",
   "metadata": {},
   "source": [
    "# Boolean\n",
    "\n",
    "bool can be either True or False"
   ]
  },
  {
   "cell_type": "code",
   "execution_count": 20,
   "id": "815014c1",
   "metadata": {},
   "outputs": [
    {
     "name": "stdout",
     "output_type": "stream",
     "text": [
      "<class 'bool'>\n"
     ]
    }
   ],
   "source": [
    "a = True        # True  with Capital 'T'  and False with Capital 'F'\n",
    "print(type(a))"
   ]
  },
  {
   "cell_type": "markdown",
   "id": "c5791e15",
   "metadata": {},
   "source": [
    "# Python Strings"
   ]
  },
  {
   "cell_type": "markdown",
   "id": "857dd15b",
   "metadata": {},
   "source": [
    "String is sequence of Unicode characters [not asci character]\n",
    " \n"
   ]
  },
  {
   "cell_type": "markdown",
   "id": "a68ad0e1",
   "metadata": {},
   "source": [
    "String is sequence of Unicode characters. \n",
    "\n",
    "We can use single quotes or double quotes to represent strings. \n",
    "\n",
    "Multi-line strings can be denoted using triple quotes, ''' or \"\"\"."
   ]
  },
  {
   "cell_type": "code",
   "execution_count": 5,
   "id": "f84e4fe6",
   "metadata": {},
   "outputs": [],
   "source": [
    "a = \"umakant\"  #Good works  with double quote\n",
    "b = 'mukhiya' #it also works with single quote\n",
    "c = '''Hello there\n",
    "iam umakant call me uma'''   #this string spans 2 lines #Multiline string"
   ]
  },
  {
   "cell_type": "code",
   "execution_count": 8,
   "id": "aef3b776",
   "metadata": {},
   "outputs": [
    {
     "name": "stdout",
     "output_type": "stream",
     "text": [
      "<class 'str'>\n",
      "<class 'str'>\n",
      "<class 'str'>\n",
      "Hello there\n",
      "iam umakant call me uma\n"
     ]
    }
   ],
   "source": [
    "print(type(a))\n",
    "print(type(b))\n",
    "print(type(c))\n",
    "print(c)"
   ]
  },
  {
   "cell_type": "markdown",
   "id": "de40f47f",
   "metadata": {},
   "source": [
    "Strings can be indexed - often synonymously called subscripted as well. \n",
    "\n",
    "Similar to C, the first character of a string has the index 0."
   ]
  },
  {
   "cell_type": "code",
   "execution_count": 15,
   "id": "b6f54a2f",
   "metadata": {},
   "outputs": [
    {
     "name": "stdout",
     "output_type": "stream",
     "text": [
      "H\n",
      "a\n"
     ]
    },
    {
     "ename": "IndexError",
     "evalue": "string index out of range",
     "output_type": "error",
     "traceback": [
      "\u001b[0;31m---------------------------------------------------------------------------\u001b[0m",
      "\u001b[0;31mIndexError\u001b[0m                                Traceback (most recent call last)",
      "Cell \u001b[0;32mIn[15], line 3\u001b[0m\n\u001b[1;32m      1\u001b[0m \u001b[38;5;28mprint\u001b[39m(c[\u001b[38;5;241m0\u001b[39m])  \u001b[38;5;66;03m#print value at 0th Index in c\u001b[39;00m\n\u001b[1;32m      2\u001b[0m \u001b[38;5;28mprint\u001b[39m(c[\u001b[38;5;241m-\u001b[39m\u001b[38;5;241m1\u001b[39m])  \u001b[38;5;66;03m#c[-1] is same as c[len(c)-1]  \u001b[39;00m\n\u001b[0;32m----> 3\u001b[0m \u001b[38;5;28mprint\u001b[39m(\u001b[43mc\u001b[49m\u001b[43m[\u001b[49m\u001b[38;5;28;43mlen\u001b[39;49m\u001b[43m(\u001b[49m\u001b[43mc\u001b[49m\u001b[43m)\u001b[49m\u001b[43m]\u001b[49m)\n",
      "\u001b[0;31mIndexError\u001b[0m: string index out of range"
     ]
    }
   ],
   "source": [
    "print(c[0])  #print value at 0th Index in c\n",
    "print(c[-1])  #c[-1] is same as c[len(c)-1]  \n",
    "print(c[len(c)])"
   ]
  },
  {
   "cell_type": "markdown",
   "id": "e0b52bc3",
   "metadata": {},
   "source": [
    "# String Slicing"
   ]
  },
  {
   "cell_type": "code",
   "execution_count": 18,
   "id": "600b2fd5",
   "metadata": {},
   "outputs": [
    {
     "name": "stdout",
     "output_type": "stream",
     "text": [
      "lo there\n",
      "iam umakant call me uma\n"
     ]
    },
    {
     "data": {
      "text/plain": [
       "'Hel'"
      ]
     },
     "execution_count": 18,
     "metadata": {},
     "output_type": "execute_result"
    }
   ],
   "source": [
    "print(c[3:])  #print from index 3 to end\n",
    "c[3:]\n",
    "c[:3]  # [0 : 3) "
   ]
  },
  {
   "cell_type": "markdown",
   "id": "586fef33",
   "metadata": {},
   "source": [
    "# python list"
   ]
  },
  {
   "cell_type": "markdown",
   "id": "909617b9",
   "metadata": {},
   "source": [
    "List is an ordered sequence of items. It is one of the most used datatype in Python and is very flexible. \n",
    "\n",
    "All the items in a list do not need to be of the same type.\n",
    "\n",
    "Declaring a list is , Items separated by commas are enclosed within brackets [ ].\n",
    "\n",
    "List are mutable/changable i.e. items can be changed "
   ]
  },
  {
   "cell_type": "code",
   "execution_count": 19,
   "id": "70cbc73d",
   "metadata": {},
   "outputs": [
    {
     "name": "stdout",
     "output_type": "stream",
     "text": [
      "[20, 5.6, 'uma']\n"
     ]
    }
   ],
   "source": [
    "l = [10,5.6,\"uma\"]    #list defining\n",
    "\n",
    "l[0] = 20    #mutable/changeable\n",
    "\n",
    "print(l)\n"
   ]
  },
  {
   "cell_type": "markdown",
   "id": "a4211eb4",
   "metadata": {},
   "source": [
    "# python tuple"
   ]
  },
  {
   "cell_type": "markdown",
   "id": "1e11b7e9",
   "metadata": {},
   "source": [
    "\n",
    "Tuple is an ordered sequence of items same as list.\n",
    "\n",
    "The only difference is that tuples are immutable. \n",
    "\n",
    "Tuples once created cannot be modified."
   ]
  },
  {
   "cell_type": "code",
   "execution_count": 25,
   "id": "7385af0f",
   "metadata": {},
   "outputs": [
    {
     "ename": "TypeError",
     "evalue": "'tuple' object does not support item assignment",
     "output_type": "error",
     "traceback": [
      "\u001b[0;31m---------------------------------------------------------------------------\u001b[0m",
      "\u001b[0;31mTypeError\u001b[0m                                 Traceback (most recent call last)",
      "Cell \u001b[0;32mIn[25], line 5\u001b[0m\n\u001b[1;32m      1\u001b[0m t \u001b[38;5;241m=\u001b[39m (\u001b[38;5;241m10\u001b[39m,\u001b[38;5;241m4.5\u001b[39m,\u001b[38;5;124m\"\u001b[39m\u001b[38;5;124muma\u001b[39m\u001b[38;5;124m\"\u001b[39m)    \u001b[38;5;66;03m#tuple , same as list\u001b[39;00m\n\u001b[1;32m      3\u001b[0m t[\u001b[38;5;241m1\u001b[39m]    \u001b[38;5;66;03m#value at index 1 in tuple t\u001b[39;00m\n\u001b[0;32m----> 5\u001b[0m \u001b[43mt\u001b[49m\u001b[43m[\u001b[49m\u001b[38;5;241;43m1\u001b[39;49m\u001b[43m]\u001b[49m \u001b[38;5;241m=\u001b[39m \u001b[38;5;241m5.5\u001b[39m   \u001b[38;5;66;03m#since tuples are immutable/not changeable. will give error\u001b[39;00m\n",
      "\u001b[0;31mTypeError\u001b[0m: 'tuple' object does not support item assignment"
     ]
    }
   ],
   "source": [
    "t = (10,4.5,\"uma\")    #tuple , same as list\n",
    "\n",
    "t[1]    #value at index 1 in tuple t\n",
    "\n",
    "t[1] = 5.5   #since tuples are immutable/not changeable. will give error"
   ]
  },
  {
   "cell_type": "markdown",
   "id": "9459af05",
   "metadata": {},
   "source": [
    "# python set"
   ]
  },
  {
   "cell_type": "markdown",
   "id": "8e30bd13",
   "metadata": {},
   "source": [
    "Set is an unordered collection of unique items.\n",
    "\n",
    "Set is defined by values separated by comma inside braces { }.\n",
    "\n",
    "Items in a set are not ordered."
   ]
  },
  {
   "cell_type": "code",
   "execution_count": 28,
   "id": "4020f71b",
   "metadata": {},
   "outputs": [
    {
     "name": "stdout",
     "output_type": "stream",
     "text": [
      "{1, 2, 3}\n",
      "<class 'set'>\n"
     ]
    },
    {
     "ename": "TypeError",
     "evalue": "'set' object is not subscriptable",
     "output_type": "error",
     "traceback": [
      "\u001b[0;31m---------------------------------------------------------------------------\u001b[0m",
      "\u001b[0;31mTypeError\u001b[0m                                 Traceback (most recent call last)",
      "Cell \u001b[0;32mIn[28], line 7\u001b[0m\n\u001b[1;32m      3\u001b[0m \u001b[38;5;28mprint\u001b[39m(s) \u001b[38;5;66;03m#stores only unique item\u001b[39;00m\n\u001b[1;32m      5\u001b[0m \u001b[38;5;28mprint\u001b[39m(\u001b[38;5;28mtype\u001b[39m(s))\n\u001b[0;32m----> 7\u001b[0m \u001b[43ms\u001b[49m\u001b[43m[\u001b[49m\u001b[38;5;241;43m1\u001b[39;49m\u001b[43m]\u001b[49m  \u001b[38;5;66;03m#gives error bcz set are unordered\u001b[39;00m\n",
      "\u001b[0;31mTypeError\u001b[0m: 'set' object is not subscriptable"
     ]
    }
   ],
   "source": [
    "s = {1,1,2,2,3,3}\n",
    "\n",
    "print(s) #stores only unique item\n",
    "\n",
    "print(type(s))\n",
    "\n",
    "s[1]  #gives error bcz set are unordered"
   ]
  },
  {
   "cell_type": "markdown",
   "id": "9f5ac85f",
   "metadata": {},
   "source": [
    "# python dictonary"
   ]
  },
  {
   "cell_type": "markdown",
   "id": "62e119fe",
   "metadata": {},
   "source": [
    "python  dictonary is like storing a table with two column\n",
    "\n",
    "it is same as unordered map in c++"
   ]
  },
  {
   "cell_type": "markdown",
   "id": "9b8fe4f6",
   "metadata": {},
   "source": [
    "Dictionary is an unordered collection of key-value pairs.\n",
    "\n",
    "In Python, dictionaries are defined within braces {} with each item being a pair in the form key:value.\n",
    "\n",
    "Key and value can be of any type."
   ]
  },
  {
   "cell_type": "code",
   "execution_count": 32,
   "id": "9b4d9e97",
   "metadata": {},
   "outputs": [
    {
     "name": "stdout",
     "output_type": "stream",
     "text": [
      "a\n",
      "b\n",
      "c\n"
     ]
    }
   ],
   "source": [
    "d = {1:'a', 2:'b',3:'c'}\n",
    "\n",
    "print(d[1])\n",
    "\n",
    "print(d[2])\n",
    "\n",
    "print(d[3])"
   ]
  },
  {
   "cell_type": "markdown",
   "id": "ea03f33b",
   "metadata": {},
   "source": [
    "# conversion between datatypes"
   ]
  },
  {
   "cell_type": "markdown",
   "id": "591d3943",
   "metadata": {},
   "source": [
    "we utilize methods like int(), float(), str() to perform conversion"
   ]
  },
  {
   "cell_type": "code",
   "execution_count": 33,
   "id": "464c5d5d",
   "metadata": {},
   "outputs": [
    {
     "data": {
      "text/plain": [
       "'10'"
      ]
     },
     "execution_count": 33,
     "metadata": {},
     "output_type": "execute_result"
    }
   ],
   "source": [
    "a = 10\n",
    "str(a)"
   ]
  },
  {
   "cell_type": "code",
   "execution_count": 34,
   "id": "0f77cd79",
   "metadata": {},
   "outputs": [
    {
     "data": {
      "text/plain": [
       "10"
      ]
     },
     "execution_count": 34,
     "metadata": {},
     "output_type": "execute_result"
    }
   ],
   "source": [
    "b = '10'\n",
    "int(b)"
   ]
  },
  {
   "cell_type": "code",
   "execution_count": 36,
   "id": "c502097f",
   "metadata": {},
   "outputs": [
    {
     "data": {
      "text/plain": [
       "5.5"
      ]
     },
     "execution_count": 36,
     "metadata": {},
     "output_type": "execute_result"
    }
   ],
   "source": [
    "c = '5.5'\n",
    "float(c)\n"
   ]
  },
  {
   "cell_type": "code",
   "execution_count": 37,
   "id": "919c4379",
   "metadata": {},
   "outputs": [
    {
     "data": {
      "text/plain": [
       "5"
      ]
     },
     "execution_count": 37,
     "metadata": {},
     "output_type": "execute_result"
    }
   ],
   "source": [
    "d = 5.5\n",
    "int(d)"
   ]
  },
  {
   "cell_type": "code",
   "execution_count": 41,
   "id": "21ad9b28",
   "metadata": {},
   "outputs": [
    {
     "name": "stdout",
     "output_type": "stream",
     "text": [
      "Congratulation, uma you've just wrote100 of code!\n"
     ]
    }
   ],
   "source": [
    "user = \"uma\"\n",
    "lines = 100\n",
    "\n",
    "print(\"Congratulation, \" + user + \" you've just wrote\" + str(lines) + \" of code!\")  #removing str() will give error"
   ]
  },
  {
   "cell_type": "markdown",
   "id": "7912beed",
   "metadata": {},
   "source": [
    "# conversion of datastructures"
   ]
  },
  {
   "cell_type": "code",
   "execution_count": 42,
   "id": "bb0a96d8",
   "metadata": {},
   "outputs": [
    {
     "name": "stdout",
     "output_type": "stream",
     "text": [
      "<class 'list'>\n",
      "<class 'set'>\n"
     ]
    }
   ],
   "source": [
    "a = [1,2,3]  # a is a list\n",
    "\n",
    "s = set(a)  # s will contain {1,2,3} as a set  #convert list to set\n",
    "\n",
    "print(type(a))\n",
    "\n",
    "print(type(s))"
   ]
  },
  {
   "cell_type": "code",
   "execution_count": 43,
   "id": "9b6a2380",
   "metadata": {},
   "outputs": [
    {
     "data": {
      "text/plain": [
       "['H', 'e', 'l', 'l', 'o']"
      ]
     },
     "execution_count": 43,
     "metadata": {},
     "output_type": "execute_result"
    }
   ],
   "source": [
    "list(\"Hello\") # conver str to list"
   ]
  },
  {
   "cell_type": "code",
   "execution_count": null,
   "id": "1a7e6100",
   "metadata": {},
   "outputs": [],
   "source": []
  }
 ],
 "metadata": {
  "kernelspec": {
   "display_name": "Python 3 (ipykernel)",
   "language": "python",
   "name": "python3"
  },
  "language_info": {
   "codemirror_mode": {
    "name": "ipython",
    "version": 3
   },
   "file_extension": ".py",
   "mimetype": "text/x-python",
   "name": "python",
   "nbconvert_exporter": "python",
   "pygments_lexer": "ipython3",
   "version": "3.10.9"
  }
 },
 "nbformat": 4,
 "nbformat_minor": 5
}
