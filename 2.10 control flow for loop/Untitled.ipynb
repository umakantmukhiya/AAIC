{
 "cells": [
  {
   "cell_type": "markdown",
   "id": "97bf2b1b",
   "metadata": {},
   "source": [
    "# python for loop"
   ]
  },
  {
   "cell_type": "markdown",
   "id": "601cd0eb",
   "metadata": {},
   "source": [
    "for can be used to iterate over (list, tuple, string) \n",
    "\n",
    "Iterating over a **sequence** is called traversing"
   ]
  },
  {
   "cell_type": "raw",
   "id": "8efbda02",
   "metadata": {},
   "source": [
    "for element in sequence:\n",
    "    statement"
   ]
  },
  {
   "cell_type": "markdown",
   "id": "30879eaa",
   "metadata": {},
   "source": [
    "# Example"
   ]
  },
  {
   "cell_type": "code",
   "execution_count": 4,
   "id": "08e2822c",
   "metadata": {},
   "outputs": [
    {
     "name": "stdout",
     "output_type": "stream",
     "text": [
      "product is 12000000\n"
     ]
    }
   ],
   "source": [
    "lst = [10,20,30,40,50]\n",
    "\n",
    "product  = 1\n",
    "\n",
    "for e in lst:\n",
    "    product *= e\n",
    "print(\"product is {}\".format(product))\n"
   ]
  },
  {
   "cell_type": "markdown",
   "id": "b3a6b3f3",
   "metadata": {},
   "source": [
    "# range() function"
   ]
  },
  {
   "cell_type": "markdown",
   "id": "2736b3dc",
   "metadata": {},
   "source": [
    "The range() function in Python is a built-in function that returns a **sequence of numbers**.\n",
    "\n",
    "It is very useful for generating loops and iterating over collections."
   ]
  },
  {
   "cell_type": "code",
   "execution_count": 5,
   "id": "947216b2",
   "metadata": {},
   "outputs": [
    {
     "name": "stdout",
     "output_type": "stream",
     "text": [
      "0\n",
      "1\n",
      "2\n",
      "3\n",
      "4\n",
      "5\n",
      "6\n",
      "7\n",
      "8\n",
      "9\n"
     ]
    }
   ],
   "source": [
    "for i in range(10):\n",
    "    print(i)"
   ]
  },
  {
   "cell_type": "raw",
   "id": "75a4b660",
   "metadata": {},
   "source": [
    "for(int i = 1; i < 10; i += 2){\n",
    "    print(i)\n",
    "}"
   ]
  },
  {
   "cell_type": "code",
   "execution_count": 6,
   "id": "eb899eeb",
   "metadata": {},
   "outputs": [
    {
     "name": "stdout",
     "output_type": "stream",
     "text": [
      "1\n",
      "3\n",
      "5\n",
      "7\n",
      "9\n"
     ]
    }
   ],
   "source": [
    "for i in range(1,10,2):\n",
    "    print(i)"
   ]
  },
  {
   "cell_type": "markdown",
   "id": "021fedff",
   "metadata": {},
   "source": [
    "The range() function takes up to three arguments:\n",
    "\n",
    "**start**: The start value of the sequence. This is an optional argument, and the default value is 0.\n",
    "\n",
    "**stop**: The stop value of the sequence. This is a required argument.\n",
    "\n",
    "**step**: The step value of the sequence. This is an optional argument, and the default value is 1."
   ]
  },
  {
   "cell_type": "code",
   "execution_count": 11,
   "id": "6f10f0fc",
   "metadata": {},
   "outputs": [
    {
     "name": "stdout",
     "output_type": "stream",
     "text": [
      "uma\n",
      "rama\n",
      "shiva\n",
      "shambhavi\n"
     ]
    },
    {
     "data": {
      "text/plain": [
       "'for e in lst:\\n        print(e)'"
      ]
     },
     "execution_count": 11,
     "metadata": {},
     "output_type": "execute_result"
    }
   ],
   "source": [
    "#iterating list using index\n",
    "\n",
    "lst = [\"uma\", \"rama\",\"shiva\",\"shambhavi\"]\n",
    "\n",
    "for index in range(len(lst)):\n",
    "    print(lst[index])\n",
    "\n",
    "\"\"\"for e in lst:\n",
    "        print(e)\"\"\""
   ]
  },
  {
   "cell_type": "markdown",
   "id": "c8fa0607",
   "metadata": {},
   "source": [
    "The else clause in a for loop in Python is executed after the loop has finished iterating, but only if the loop was not terminated by a **break statement**.\n",
    "\n",
    "This can be useful for performing actions after the loop has completed, such as printing a summary or checking for errors."
   ]
  },
  {
   "cell_type": "code",
   "execution_count": 12,
   "id": "f89db616",
   "metadata": {},
   "outputs": [
    {
     "name": "stdout",
     "output_type": "stream",
     "text": [
      "0\n",
      "1\n",
      "2\n",
      "3\n",
      "4\n",
      "For loop ends, else part\n",
      "\n"
     ]
    }
   ],
   "source": [
    "for i in range(5):\n",
    "    print(i)\n",
    "else:\n",
    "    print(\"For loop ends, else part\\n\")"
   ]
  },
  {
   "cell_type": "code",
   "execution_count": 14,
   "id": "c922406f",
   "metadata": {},
   "outputs": [
    {
     "name": "stdout",
     "output_type": "stream",
     "text": [
      "0\n",
      "2\n",
      "4\n",
      "6\n",
      "8\n"
     ]
    }
   ],
   "source": [
    "for i in range(10):\n",
    "    if(i%2 == 0):\n",
    "        print(i)\n",
    "    if(i == 8):\n",
    "        break;\n",
    "else:\n",
    "    print(\"else part of for loop\\n\")\n",
    "        \n",
    "        "
   ]
  },
  {
   "cell_type": "markdown",
   "id": "5f058902",
   "metadata": {},
   "source": [
    "# Python program to prime number within range"
   ]
  },
  {
   "cell_type": "code",
   "execution_count": 22,
   "id": "cd1fc0f8",
   "metadata": {},
   "outputs": [
    {
     "name": "stdout",
     "output_type": "stream",
     "text": [
      "11\n",
      "13\n",
      "17\n",
      "19\n",
      "23\n",
      "29\n",
      "31\n",
      "37\n",
      "41\n",
      "43\n",
      "47\n"
     ]
    }
   ],
   "source": [
    "start = 10\n",
    "end = 50\n",
    "\n",
    "def isPrime(a):\n",
    "    var = 2;\n",
    "    while var*var <= a:\n",
    "        if(a%var == 0):\n",
    "            return False\n",
    "        var += 1;\n",
    "    return True\n",
    "\n",
    "for e in range(start,end,1):\n",
    "    if(isPrime(e)):\n",
    "        print(e)\n"
   ]
  },
  {
   "cell_type": "code",
   "execution_count": null,
   "id": "2e62b3ff",
   "metadata": {},
   "outputs": [],
   "source": []
  }
 ],
 "metadata": {
  "kernelspec": {
   "display_name": "Python 3 (ipykernel)",
   "language": "python",
   "name": "python3"
  },
  "language_info": {
   "codemirror_mode": {
    "name": "ipython",
    "version": 3
   },
   "file_extension": ".py",
   "mimetype": "text/x-python",
   "name": "python",
   "nbconvert_exporter": "python",
   "pygments_lexer": "ipython3",
   "version": "3.10.9"
  }
 },
 "nbformat": 4,
 "nbformat_minor": 5
}
