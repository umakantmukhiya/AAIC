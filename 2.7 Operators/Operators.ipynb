{
 "cells": [
  {
   "cell_type": "markdown",
   "id": "92f2524c",
   "metadata": {},
   "source": [
    "# operator types"
   ]
  },
  {
   "cell_type": "markdown",
   "id": "e12cd932",
   "metadata": {},
   "source": [
    "1. Arithmetic operators\n",
    "    \n",
    "2. Comparison (Relational) operators\n",
    "\n",
    "3. Logical (Boolean) operators\n",
    "\n",
    "4. Bitwise operators\n",
    "\n",
    "5. Assignment operators\n",
    "\n",
    "6. Special operators"
   ]
  },
  {
   "cell_type": "markdown",
   "id": "62375e23",
   "metadata": {},
   "source": [
    "# arithmetic operators"
   ]
  },
  {
   "cell_type": "raw",
   "id": "31c5d8f0",
   "metadata": {},
   "source": [
    "+ , -, *, /, %, //, **  are arithmetic operators"
   ]
  },
  {
   "cell_type": "code",
   "execution_count": 3,
   "id": "925797eb",
   "metadata": {},
   "outputs": [
    {
     "name": "stdout",
     "output_type": "stream",
     "text": [
      "30\n",
      "-10\n",
      "0.5\n",
      "10\n",
      "0\n",
      "100000000000000000000\n"
     ]
    }
   ],
   "source": [
    "a , b = 10, 20\n",
    "\n",
    "print(a + b) #addition\n",
    "\n",
    "print(a - b) #substraction\n",
    "\n",
    "print(a / b) #division   or   fractional division\n",
    "\n",
    "print(a % b) #modulas    rem(a/b)   rem -> reminder\n",
    "\n",
    "print(a // b) #floor division  floor(a/b)\n",
    "\n",
    "print(a ** b)  #exponentiation  a^b"
   ]
  },
  {
   "cell_type": "markdown",
   "id": "a0b96632",
   "metadata": {},
   "source": [
    "# comparision operator"
   ]
  },
  {
   "cell_type": "raw",
   "id": "399631f9",
   "metadata": {},
   "source": [
    "   >, <, ==, !=, >=, <= are comparision operators"
   ]
  },
  {
   "cell_type": "code",
   "execution_count": 1,
   "id": "f569cf64",
   "metadata": {},
   "outputs": [
    {
     "name": "stdout",
     "output_type": "stream",
     "text": [
      "True\n"
     ]
    }
   ],
   "source": [
    "a, b = 10, 20         \n",
    "\n",
    "print(a < b)  #check a is less than b\n",
    "\n",
    "#check a is greater than b\n",
    "\n",
    "#check a is equal to b\n",
    "\n",
    "#check a is not equal to b (!=)\n",
    "\n",
    "#check a greater than or equal to b\n",
    "\n",
    "#check a less than or equal to b\n"
   ]
  },
  {
   "cell_type": "markdown",
   "id": "ad8fdf0c",
   "metadata": {},
   "source": [
    "# logical operators\n",
    "### and , or , not"
   ]
  },
  {
   "cell_type": "code",
   "execution_count": 4,
   "id": "1bd13e74",
   "metadata": {},
   "outputs": [
    {
     "name": "stdout",
     "output_type": "stream",
     "text": [
      "False\n",
      "True\n",
      "True\n"
     ]
    }
   ],
   "source": [
    "a, b = True, False\n",
    "\n",
    "#print a and b\n",
    "print(a and b)\n",
    "\n",
    "#print a or b\n",
    "print(a or b)\n",
    "\n",
    "#print not b\n",
    "print(not b)"
   ]
  },
  {
   "cell_type": "markdown",
   "id": "95949db9",
   "metadata": {},
   "source": [
    "# bitwise operator"
   ]
  },
  {
   "cell_type": "markdown",
   "id": "c5e10442",
   "metadata": {},
   "source": [
    "Bitwise operators act on operands as if they were string of binary digits. It operates bit by bit"
   ]
  },
  {
   "cell_type": "markdown",
   "id": "d99e120a",
   "metadata": {},
   "source": [
    "    &,  |,  ~,  ^,  >>,  << are Bitwise operators"
   ]
  },
  {
   "cell_type": "code",
   "execution_count": 13,
   "id": "6bc84c83",
   "metadata": {},
   "outputs": [
    {
     "name": "stdout",
     "output_type": "stream",
     "text": [
      "0\n",
      "14\n",
      "Testing NOT operator\n",
      "0b1010\n",
      "-0b1011\n",
      "10\n",
      "-11\n",
      "The binary representation of 10 is 1010. When we flip all of the bits, we get 0101,which is the binary representation of -11.\n",
      "Testing ends\n",
      "\n",
      "14\n",
      "160\n",
      "0\n"
     ]
    }
   ],
   "source": [
    "a, b = 10, 4\n",
    "\n",
    "#Bitwise AND\n",
    "print(a & b)\n",
    "\n",
    "#Bitwise OR\n",
    "print(a | b)\n",
    "\n",
    "#Bitwise NOT\n",
    "print(\"Testing NOT operator\")\n",
    "print(bin(a))\n",
    "print(bin(~a))\n",
    "print(a)\n",
    "print(~a)\n",
    "print(\"The binary representation of 10 is 1010. When we flip all of the bits, we get 0101,\"\\\n",
    "      \"which is the binary representation of -11.\")\n",
    "print(\"Testing ends\\n\")\n",
    "\n",
    "\n",
    "#Bitwise XOR\n",
    "print(a^b)\n",
    "\n",
    "\n",
    "#Bitwise rightshift\n",
    "print(a<<b)\n",
    "\n",
    "\n",
    "#Bitwise Leftshift\n",
    "print(a>>b)"
   ]
  },
  {
   "cell_type": "markdown",
   "id": "27787c41",
   "metadata": {},
   "source": [
    "# assingment operator"
   ]
  },
  {
   "cell_type": "markdown",
   "id": "bad0c75d",
   "metadata": {},
   "source": [
    "short hand notation"
   ]
  },
  {
   "cell_type": "code",
   "execution_count": 6,
   "id": "7806da86",
   "metadata": {},
   "outputs": [
    {
     "name": "stdout",
     "output_type": "stream",
     "text": [
      "20\n"
     ]
    }
   ],
   "source": [
    "a = 10\n",
    "\n",
    "a += 10         #add AND\n",
    "print(a)\n",
    "\n",
    "#subtract AND (-=)\n",
    "\n",
    "#Multiply AND (*=)\n",
    "\n",
    "#Divide AND (/=)\n",
    "\n",
    "#Modulus AND (%=)\n",
    "\n",
    "#Floor Division (//=)\n",
    "\n",
    "#Exponent AND (**=)"
   ]
  },
  {
   "cell_type": "markdown",
   "id": "4395ac8e",
   "metadata": {},
   "source": [
    "# identity operator"
   ]
  },
  {
   "cell_type": "markdown",
   "id": "1c3777b0",
   "metadata": {},
   "source": [
    "### is ,   is not"
   ]
  },
  {
   "cell_type": "code",
   "execution_count": 7,
   "id": "1c450993",
   "metadata": {},
   "outputs": [
    {
     "name": "stdout",
     "output_type": "stream",
     "text": [
      "True\n",
      "False\n"
     ]
    }
   ],
   "source": [
    "a = 5\n",
    "b = 5\n",
    "\n",
    "print(a is b)    #5 is object created once both a and b points to same object\n",
    "\n",
    "print(a is not b)"
   ]
  },
  {
   "cell_type": "code",
   "execution_count": 9,
   "id": "6a6cc025",
   "metadata": {},
   "outputs": [
    {
     "name": "stdout",
     "output_type": "stream",
     "text": [
      "False\n"
     ]
    }
   ],
   "source": [
    "l1 = [1,2,3]\n",
    "l2 = [1,2,3]\n",
    "\n",
    "print(l1 is l2)"
   ]
  },
  {
   "cell_type": "code",
   "execution_count": 10,
   "id": "db964764",
   "metadata": {},
   "outputs": [
    {
     "name": "stdout",
     "output_type": "stream",
     "text": [
      "True\n",
      "False\n"
     ]
    }
   ],
   "source": [
    "a = \"AAIC\"\n",
    "b = \"AAIC\"\n",
    "\n",
    "print(a is b)\n",
    "\n",
    "print(a is not b)"
   ]
  },
  {
   "cell_type": "markdown",
   "id": "5b35c023",
   "metadata": {},
   "source": [
    "# membership operator"
   ]
  },
  {
   "cell_type": "markdown",
   "id": "84dcca2d",
   "metadata": {},
   "source": [
    "**in and not in** are the membership operators in Python. \n",
    "    \n",
    "They are used to test whether a value or variable is found in a sequence (string, list, tuple, set and   dictionary)."
   ]
  },
  {
   "cell_type": "code",
   "execution_count": 12,
   "id": "1d1de708",
   "metadata": {},
   "outputs": [
    {
     "name": "stdout",
     "output_type": "stream",
     "text": [
      "True\n"
     ]
    }
   ],
   "source": [
    "lst = [1,2,3,4]\n",
    "\n",
    "print(1 in lst)"
   ]
  },
  {
   "cell_type": "code",
   "execution_count": 14,
   "id": "393b53f5",
   "metadata": {},
   "outputs": [
    {
     "name": "stdout",
     "output_type": "stream",
     "text": [
      "True\n",
      "False\n"
     ]
    }
   ],
   "source": [
    "d = {1:'a',2:'b'}\n",
    "\n",
    "print(2 in d)\n",
    "\n",
    "print(3 in d)"
   ]
  },
  {
   "cell_type": "code",
   "execution_count": null,
   "id": "f5c7f80b",
   "metadata": {},
   "outputs": [],
   "source": []
  }
 ],
 "metadata": {
  "kernelspec": {
   "display_name": "Python 3 (ipykernel)",
   "language": "python",
   "name": "python3"
  },
  "language_info": {
   "codemirror_mode": {
    "name": "ipython",
    "version": 3
   },
   "file_extension": ".py",
   "mimetype": "text/x-python",
   "name": "python",
   "nbconvert_exporter": "python",
   "pygments_lexer": "ipython3",
   "version": "3.10.9"
  }
 },
 "nbformat": 4,
 "nbformat_minor": 5
}
