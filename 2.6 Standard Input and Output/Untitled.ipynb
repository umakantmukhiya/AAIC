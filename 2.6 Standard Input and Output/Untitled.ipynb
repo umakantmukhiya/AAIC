{
 "cells": [
  {
   "cell_type": "markdown",
   "id": "e977597c",
   "metadata": {},
   "source": [
    "# python output"
   ]
  },
  {
   "cell_type": "code",
   "execution_count": 1,
   "id": "0e9d66a4",
   "metadata": {},
   "outputs": [
    {
     "name": "stdout",
     "output_type": "stream",
     "text": [
      "Hello WOrld\n"
     ]
    }
   ],
   "source": [
    "print(\"Hello WOrld\") #simple print() method"
   ]
  },
  {
   "cell_type": "code",
   "execution_count": 3,
   "id": "067aed1f",
   "metadata": {},
   "outputs": [
    {
     "name": "stdout",
     "output_type": "stream",
     "text": [
      "value of a is 10\n",
      "value of a is 10\n"
     ]
    }
   ],
   "source": [
    "a = 10\n",
    "\n",
    "print(\"value of a is\",a)\n",
    "\n",
    "print(\"value of a is \" + str(a))  #str concatenation"
   ]
  },
  {
   "cell_type": "markdown",
   "id": "f1c1e608",
   "metadata": {},
   "source": [
    "# output formatting"
   ]
  },
  {
   "cell_type": "code",
   "execution_count": 5,
   "id": "aca1f9f7",
   "metadata": {},
   "outputs": [
    {
     "name": "stdout",
     "output_type": "stream",
     "text": [
      "the value of a is 10 and b is 20\n"
     ]
    }
   ],
   "source": [
    "a = 10; b = 20  #multiple statement in as ingle line\n",
    "\n",
    "print(\"the value of a is {} and b is {}\".format(a,b)) #default "
   ]
  },
  {
   "cell_type": "code",
   "execution_count": 6,
   "id": "b2d0daec",
   "metadata": {},
   "outputs": [
    {
     "name": "stdout",
     "output_type": "stream",
     "text": [
      "The value of b is 20 and of a is 10\n"
     ]
    }
   ],
   "source": [
    "print(\"The value of b is {1} and of a is {0}\".format(a,b)) #indexed/positional based formatting"
   ]
  },
  {
   "cell_type": "code",
   "execution_count": 1,
   "id": "9b1ce7c0",
   "metadata": {},
   "outputs": [
    {
     "name": "stdout",
     "output_type": "stream",
     "text": [
      "the value of a is 10 and b is 20\n"
     ]
    }
   ],
   "source": [
    "#placeholder based formatting\n",
    "\n",
    "print(\"the value of a is {a_var} and b is {b_var}\".format(a_var = 10, b_var=20))"
   ]
  },
  {
   "cell_type": "code",
   "execution_count": 8,
   "id": "e7a08244",
   "metadata": {},
   "outputs": [
    {
     "name": "stdout",
     "output_type": "stream",
     "text": [
      "the value of a 10 and b 20 is good, right john\n"
     ]
    }
   ],
   "source": [
    "#combining positiona and placeholder based formatting\n",
    "\n",
    "print(\"the value of a {} and b {} is good, right {name}\".format(10,20,name=\"john\"))"
   ]
  },
  {
   "cell_type": "markdown",
   "id": "d98834a6",
   "metadata": {},
   "source": [
    "# python input"
   ]
  },
  {
   "cell_type": "code",
   "execution_count": 3,
   "id": "9bcb3cf9",
   "metadata": {},
   "outputs": [
    {
     "name": "stdout",
     "output_type": "stream",
     "text": [
      "Enter a number: 12\n",
      "12\n",
      "<class 'str'>\n"
     ]
    }
   ],
   "source": [
    "num = input(\"Enter a number: \")\n",
    "\n",
    "print(num)\n",
    "\n",
    "print(type(num))"
   ]
  },
  {
   "cell_type": "code",
   "execution_count": null,
   "id": "493e12dc",
   "metadata": {},
   "outputs": [],
   "source": []
  }
 ],
 "metadata": {
  "kernelspec": {
   "display_name": "Python 3 (ipykernel)",
   "language": "python",
   "name": "python3"
  },
  "language_info": {
   "codemirror_mode": {
    "name": "ipython",
    "version": 3
   },
   "file_extension": ".py",
   "mimetype": "text/x-python",
   "name": "python",
   "nbconvert_exporter": "python",
   "pygments_lexer": "ipython3",
   "version": "3.10.9"
  }
 },
 "nbformat": 4,
 "nbformat_minor": 5
}
