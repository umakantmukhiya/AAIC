{
 "cells": [
  {
   "cell_type": "markdown",
   "id": "b4174e5c",
   "metadata": {},
   "source": [
    "# python {if-elif-else} statements"
   ]
  },
  {
   "cell_type": "markdown",
   "id": "08de6a37",
   "metadata": {},
   "source": [
    "Example"
   ]
  },
  {
   "cell_type": "raw",
   "id": "525afe4d",
   "metadata": {},
   "source": [
    "if (0 , None and False) imply False and statement inside if will not execute everything else is True"
   ]
  },
  {
   "cell_type": "code",
   "execution_count": 2,
   "id": "95ca1d37",
   "metadata": {},
   "outputs": [
    {
     "name": "stdout",
     "output_type": "stream",
     "text": [
      "-1 testing\n",
      "\n",
      "outside if statement\n",
      "\n"
     ]
    }
   ],
   "source": [
    "num = 10\n",
    "\n",
    "if(-1):\n",
    "    print(\"-1 testing\\n\")\n",
    "print(\"outside if statement\\n\")"
   ]
  },
  {
   "cell_type": "code",
   "execution_count": 3,
   "id": "6dfbd23a",
   "metadata": {},
   "outputs": [
    {
     "name": "stdout",
     "output_type": "stream",
     "text": [
      "if statement\n",
      "\n",
      "outside if statement\n",
      "\n"
     ]
    }
   ],
   "source": [
    "if(num):\n",
    "    print(\"if statement\\n\")\n",
    "print(\"outside if statement\\n\")"
   ]
  },
  {
   "cell_type": "code",
   "execution_count": 4,
   "id": "44d572ae",
   "metadata": {},
   "outputs": [
    {
     "name": "stdout",
     "output_type": "stream",
     "text": [
      "outside if\n"
     ]
    }
   ],
   "source": [
    "if(0):\n",
    "    print(\"inside if\")\n",
    "print(\"outside if\")"
   ]
  },
  {
   "cell_type": "code",
   "execution_count": 5,
   "id": "4e8aa48f",
   "metadata": {},
   "outputs": [
    {
     "name": "stdout",
     "output_type": "stream",
     "text": [
      "Outside if\n"
     ]
    }
   ],
   "source": [
    "if(None):\n",
    "    print(\"Inside if\")\n",
    "print(\"Outside if\")"
   ]
  },
  {
   "cell_type": "markdown",
   "id": "1bec78c5",
   "metadata": {},
   "source": [
    "# if else statement"
   ]
  },
  {
   "cell_type": "code",
   "execution_count": 6,
   "id": "5db08d26",
   "metadata": {},
   "outputs": [
    {
     "name": "stdout",
     "output_type": "stream",
     "text": [
      "else statement\n",
      "\n"
     ]
    }
   ],
   "source": [
    "n = 10\n",
    "\n",
    "if(n > 10):\n",
    "    print(\"if statement\\n\")\n",
    "else:\n",
    "    print(\"else statement\\n\")"
   ]
  },
  {
   "cell_type": "markdown",
   "id": "16ef019f",
   "metadata": {},
   "source": [
    "# if elif else statement"
   ]
  },
  {
   "cell_type": "code",
   "execution_count": 7,
   "id": "73248972",
   "metadata": {},
   "outputs": [
    {
     "name": "stdout",
     "output_type": "stream",
     "text": [
      "elif statement\n",
      "\n"
     ]
    }
   ],
   "source": [
    "a = 0.5\n",
    "\n",
    "if(a > 1):\n",
    "    print(\"if statement\\n\")\n",
    "elif(a == 0.5):\n",
    "    print(\"elif statement\\n\")\n",
    "else:\n",
    "    print(\"else statement\\n\")"
   ]
  },
  {
   "cell_type": "markdown",
   "id": "67d69a23",
   "metadata": {},
   "source": [
    "# nested if-else statement"
   ]
  },
  {
   "cell_type": "code",
   "execution_count": 8,
   "id": "95a87edc",
   "metadata": {},
   "outputs": [
    {
     "name": "stdout",
     "output_type": "stream",
     "text": [
      "a <= 10\n"
     ]
    }
   ],
   "source": [
    "a = 10\n",
    "\n",
    "if(a > 5):\n",
    "    if(a > 10):\n",
    "        print(\"a > 10\")\n",
    "    else:\n",
    "        print(\"a <= 10\")\n",
    "else:\n",
    "    print(\"a <= 5\")"
   ]
  },
  {
   "cell_type": "markdown",
   "id": "08274771",
   "metadata": {},
   "source": [
    "**Question** find the largest among the three variables a, b, c"
   ]
  },
  {
   "cell_type": "code",
   "execution_count": 13,
   "id": "81d4db8a",
   "metadata": {},
   "outputs": [
    {
     "name": "stdout",
     "output_type": "stream",
     "text": [
      "c is greatest\n"
     ]
    }
   ],
   "source": [
    "a = 300\n",
    "b = 50\n",
    "c = 800\n",
    "\n",
    "if(a > b):\n",
    "    if(a > c):\n",
    "        print(\"a is greatest\")\n",
    "    else:\n",
    "        print(\"c is greatest\")\n",
    "else:\n",
    "    if(b > c):\n",
    "        print(\"b is greatest\")\n",
    "    else:\n",
    "        print(\"c is greatest\")\n",
    "        "
   ]
  },
  {
   "cell_type": "code",
   "execution_count": null,
   "id": "d7006a29",
   "metadata": {},
   "outputs": [],
   "source": []
  }
 ],
 "metadata": {
  "kernelspec": {
   "display_name": "Python 3 (ipykernel)",
   "language": "python",
   "name": "python3"
  },
  "language_info": {
   "codemirror_mode": {
    "name": "ipython",
    "version": 3
   },
   "file_extension": ".py",
   "mimetype": "text/x-python",
   "name": "python",
   "nbconvert_exporter": "python",
   "pygments_lexer": "ipython3",
   "version": "3.10.9"
  }
 },
 "nbformat": 4,
 "nbformat_minor": 5
}
