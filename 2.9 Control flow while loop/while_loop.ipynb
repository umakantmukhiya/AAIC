{
 "cells": [
  {
   "cell_type": "markdown",
   "id": "74cf6c2f",
   "metadata": {},
   "source": [
    "# Python while loop"
   ]
  },
  {
   "cell_type": "markdown",
   "id": "0f00e09b",
   "metadata": {},
   "source": [
    "*Syntax* "
   ]
  },
  {
   "cell_type": "raw",
   "id": "4561555a",
   "metadata": {},
   "source": [
    "while test_expression:\n",
    "    statement"
   ]
  },
  {
   "cell_type": "markdown",
   "id": "5ea068fd",
   "metadata": {},
   "source": [
    "# example"
   ]
  },
  {
   "cell_type": "code",
   "execution_count": 7,
   "id": "d02f8f09",
   "metadata": {},
   "outputs": [
    {
     "name": "stdout",
     "output_type": "stream",
     "text": [
      "Index: 0\n",
      "Index: 1\n",
      "Index: 2\n",
      "Index: 3\n",
      "Index: 4\n",
      "while loop ends\n"
     ]
    }
   ],
   "source": [
    "index = 0\n",
    "while index < 5:\n",
    "    print(\"Index: {}\".format(index))\n",
    "    index += 1\n",
    "print(\"while loop ends\")"
   ]
  },
  {
   "cell_type": "code",
   "execution_count": 8,
   "id": "1a33e21a",
   "metadata": {},
   "outputs": [
    {
     "name": "stdout",
     "output_type": "stream",
     "text": [
      "list value at index:0 is 1\n",
      "list value at index:1 is 2\n",
      "list value at index:2 is 3\n",
      "list value at index:3 is 4\n",
      "list value at index:4 is 5\n",
      "While loop ends\n"
     ]
    }
   ],
   "source": [
    "#iterating over list\n",
    "lst = [1,2,3,4,5]\n",
    "index = 0\n",
    "\n",
    "while index < len(lst):\n",
    "    print(\"list value at index:{} is {}\".format(index,lst[index]))\n",
    "    index += 1\n",
    "print(\"While loop ends\")"
   ]
  },
  {
   "cell_type": "markdown",
   "id": "b4fcefad",
   "metadata": {},
   "source": [
    "# while loop with else"
   ]
  },
  {
   "cell_type": "markdown",
   "id": "9d66c8b0",
   "metadata": {},
   "source": [
    "Same as that of **for loop** we have **else** with **while loop**\n",
    "\n",
    "If while loop test-expression Fails then else part is executed\n"
   ]
  },
  {
   "cell_type": "code",
   "execution_count": 10,
   "id": "b9c9efc6",
   "metadata": {},
   "outputs": [
    {
     "name": "stdout",
     "output_type": "stream",
     "text": [
      "While loop: Index is 0\n",
      "While loop: Index is 1\n",
      "While loop: Index is 2\n",
      "While loop: Index is 3\n",
      "While loop: Index is 4\n",
      "While loop else part\n",
      "Outside while loop\n"
     ]
    }
   ],
   "source": [
    "index = 0\n",
    "while index < 5:\n",
    "    print(\"While loop: Index is {}\".format(index))\n",
    "    index += 1\n",
    "else:\n",
    "    print(\"While loop else part\")\n",
    "print(\"Outside while loop\")"
   ]
  },
  {
   "cell_type": "markdown",
   "id": "b256aa73",
   "metadata": {},
   "source": [
    "# python program to check given number is prime or not"
   ]
  },
  {
   "cell_type": "code",
   "execution_count": 23,
   "id": "5e61ac47",
   "metadata": {},
   "outputs": [
    {
     "name": "stdout",
     "output_type": "stream",
     "text": [
      "True\n"
     ]
    }
   ],
   "source": [
    "num = 191;\n",
    "\n",
    "var = 2;\n",
    "    \n",
    "while var*var <= num:\n",
    "    if num%var == 0:\n",
    "        print(\"False\")\n",
    "        break\n",
    "    var += 1\n",
    "else:\n",
    "    print(\"True\")"
   ]
  },
  {
   "cell_type": "code",
   "execution_count": null,
   "id": "52aec55e",
   "metadata": {},
   "outputs": [],
   "source": []
  }
 ],
 "metadata": {
  "kernelspec": {
   "display_name": "Python 3 (ipykernel)",
   "language": "python",
   "name": "python3"
  },
  "language_info": {
   "codemirror_mode": {
    "name": "ipython",
    "version": 3
   },
   "file_extension": ".py",
   "mimetype": "text/x-python",
   "name": "python",
   "nbconvert_exporter": "python",
   "pygments_lexer": "ipython3",
   "version": "3.10.9"
  }
 },
 "nbformat": 4,
 "nbformat_minor": 5
}
