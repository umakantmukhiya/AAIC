{
 "cells": [
  {
   "cell_type": "markdown",
   "id": "c23f8c7a",
   "metadata": {},
   "source": [
    "The break statement terminates the loop in which it is used.\n",
    "\n",
    "the continue statement skips the rest of the current iteration of the loop and moves on to the next iteration."
   ]
  },
  {
   "cell_type": "code",
   "execution_count": 1,
   "id": "62afe299",
   "metadata": {},
   "outputs": [
    {
     "name": "stdout",
     "output_type": "stream",
     "text": [
      "1\n",
      "2\n",
      "3\n",
      "4\n",
      "5\n",
      "outside else loop\n",
      "\n"
     ]
    }
   ],
   "source": [
    "#demonstrating break in a loop\n",
    "for i in range(1,11):\n",
    "    if(i == 6):\n",
    "        break\n",
    "    print(i)\n",
    "else:\n",
    "    print(\"indise else loop\\n\")\n",
    "print(\"outside else loop\\n\")"
   ]
  },
  {
   "cell_type": "code",
   "execution_count": 2,
   "id": "52f61640",
   "metadata": {},
   "outputs": [
    {
     "name": "stdout",
     "output_type": "stream",
     "text": [
      "1\n",
      "3\n",
      "5\n",
      "7\n",
      "9\n"
     ]
    }
   ],
   "source": [
    "#demonstrating continue in a loop\n",
    "for i in range(1,11):\n",
    "    if(i%2 == 0):\n",
    "        continue\n",
    "    print(i)"
   ]
  },
  {
   "cell_type": "code",
   "execution_count": null,
   "id": "a208bbee",
   "metadata": {},
   "outputs": [],
   "source": []
  }
 ],
 "metadata": {
  "kernelspec": {
   "display_name": "Python 3 (ipykernel)",
   "language": "python",
   "name": "python3"
  },
  "language_info": {
   "codemirror_mode": {
    "name": "ipython",
    "version": 3
   },
   "file_extension": ".py",
   "mimetype": "text/x-python",
   "name": "python",
   "nbconvert_exporter": "python",
   "pygments_lexer": "ipython3",
   "version": "3.10.9"
  }
 },
 "nbformat": 4,
 "nbformat_minor": 5
}
