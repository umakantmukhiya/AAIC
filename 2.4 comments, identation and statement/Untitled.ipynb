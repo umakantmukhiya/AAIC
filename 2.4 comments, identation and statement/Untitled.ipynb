{
 "cells": [
  {
   "cell_type": "code",
   "execution_count": 1,
   "id": "862023b3",
   "metadata": {},
   "outputs": [
    {
     "name": "stdout",
     "output_type": "stream",
     "text": [
      "Hello, World\n"
     ]
    }
   ],
   "source": [
    "#print Hello World using print() function\n",
    "print(\"Hello, World\")"
   ]
  },
  {
   "cell_type": "code",
   "execution_count": 6,
   "id": "3589d62e",
   "metadata": {},
   "outputs": [
    {
     "data": {
      "text/plain": [
       "'with this (single) triple quote, you can write multiline comment'"
      ]
     },
     "execution_count": 6,
     "metadata": {},
     "output_type": "execute_result"
    }
   ],
   "source": [
    "# with \"hash\" you can write single line comment\n",
    "\n",
    "\"\"\" with this (double) triple quote, you can write multiline comment\"\"\"\n",
    "\n",
    "#or \n",
    "\n",
    "'''with this (single) triple quote, you can write multiline comment'''"
   ]
  },
  {
   "cell_type": "code",
   "execution_count": 8,
   "id": "65b13845",
   "metadata": {},
   "outputs": [
    {
     "name": "stdout",
     "output_type": "stream",
     "text": [
      "0\n",
      "1\n",
      "2\n",
      "3\n",
      "4\n",
      "5\n",
      "6\n",
      "7\n",
      "8\n",
      "9\n"
     ]
    }
   ],
   "source": [
    "#Indentation matters here \n",
    "#Indentation is same as curly braces\n",
    "\n",
    "'''\n",
    "for(int i = 0; i < 10; i++){\n",
    "    cout << i;\n",
    "}\n",
    "'''\n",
    "\n",
    "for i in range(10):\n",
    "    print(i)"
   ]
  },
  {
   "cell_type": "code",
   "execution_count": 9,
   "id": "b993aabe",
   "metadata": {},
   "outputs": [
    {
     "name": "stdout",
     "output_type": "stream",
     "text": [
      "Machine Learning\n"
     ]
    }
   ],
   "source": [
    "if True:\n",
    "    print(\"Machine Learning\")\n",
    "    c = \"NAN\""
   ]
  },
  {
   "cell_type": "code",
   "execution_count": 10,
   "id": "3a3da063",
   "metadata": {},
   "outputs": [],
   "source": [
    "#Statements in python are\n",
    "'''Instruction that our python interpreter can execute'''\n",
    "\n",
    "a = 1 #single line statement"
   ]
  },
  {
   "cell_type": "code",
   "execution_count": 11,
   "id": "e040e501",
   "metadata": {},
   "outputs": [
    {
     "name": "stdout",
     "output_type": "stream",
     "text": [
      "36\n"
     ]
    }
   ],
   "source": [
    "#multiline statement     using newline character\n",
    "\n",
    "a = 1 + 2 + 3 + \\\n",
    "    4 + 5 + 6 + \\\n",
    "    7 + 8\n",
    "\n",
    "print(a)"
   ]
  },
  {
   "cell_type": "code",
   "execution_count": 12,
   "id": "f162e72c",
   "metadata": {},
   "outputs": [
    {
     "name": "stdout",
     "output_type": "stream",
     "text": [
      "36\n"
     ]
    }
   ],
   "source": [
    "#multiline using  paranthesis\n",
    "a = (1 + 2 + 3 + \n",
    "    4 + 5 + 6 + \n",
    "    7 + 8)\n",
    "\n",
    "print(a)"
   ]
  },
  {
   "cell_type": "code",
   "execution_count": 13,
   "id": "d829a1e8",
   "metadata": {},
   "outputs": [],
   "source": [
    "a = 1; b = 2; c = 3  #putting multiline statement in a single line using semicolon ;"
   ]
  },
  {
   "cell_type": "code",
   "execution_count": null,
   "id": "52f6f1da",
   "metadata": {},
   "outputs": [],
   "source": []
  }
 ],
 "metadata": {
  "kernelspec": {
   "display_name": "Python 3 (ipykernel)",
   "language": "python",
   "name": "python3"
  },
  "language_info": {
   "codemirror_mode": {
    "name": "ipython",
    "version": 3
   },
   "file_extension": ".py",
   "mimetype": "text/x-python",
   "name": "python",
   "nbconvert_exporter": "python",
   "pygments_lexer": "ipython3",
   "version": "3.10.9"
  }
 },
 "nbformat": 4,
 "nbformat_minor": 5
}
